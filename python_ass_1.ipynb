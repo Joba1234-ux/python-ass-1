{
  "nbformat": 4,
  "nbformat_minor": 0,
  "metadata": {
    "colab": {
      "provenance": []
    },
    "kernelspec": {
      "name": "python3",
      "display_name": "Python 3"
    },
    "language_info": {
      "name": "python"
    }
  },
  "cells": [
    {
      "cell_type": "code",
      "execution_count": null,
      "metadata": {
        "id": "Y7geIQQtAgoq"
      },
      "outputs": [],
      "source": []
    },
    {
      "cell_type": "code",
      "source": [],
      "metadata": {
        "id": "1_1leI8qKaW2"
      },
      "execution_count": null,
      "outputs": []
    },
    {
      "cell_type": "markdown",
      "source": [],
      "metadata": {
        "id": "xNd6Zam7KbAm"
      }
    },
    {
      "cell_type": "markdown",
      "source": [
        "1. What is Python, and why is it popular?\n",
        "  -- Python is  a high level programming language known for its code syntax.\n",
        "  Its is popular because it is widely used in fields like data science data analytics and has strong community supoort with useful libraries.\n",
        "\n",
        "2.  What is an interpreter in Python?\n",
        " -- An interpreter in python is a program that reads and executes python code in a line, translating into machine language. This allows python to run without needing a seperate compilation step making a development faster to test.\n",
        "\n",
        "3. What are pre-defined keywords in Python?\n",
        " --Some pre defined keywords in python are:-\n",
        "   True, Return, while, With, Else, And, false, If, For, With\n",
        "\n",
        "4. Can keywords be used as variable names?\n",
        " -- No, it can not be used a variable names, since they have special meanings in the language snntax using them as a variable names would cause a syntax error.\n",
        "\n",
        "5. What is mutability in Python?\n",
        " -- It refers to whether or not an objects value can be changed after it is created . It can be changed in place .\n",
        " For eg;- list, set\n",
        "\n",
        "6. Why are lists mutable, but tuples are immutable?\n",
        " -- Lists are mutable because they are designed to store dynamic data that may need to be changed—items can be added, removed, or modified.\n",
        "\n",
        " Tuples are immutable because they are meant to represent fixed collections of items, providing safety from accidental changes.\n",
        "\n",
        "7.  What is the difference between “==” and “is” operators in Python?\n",
        " -- \"==\" Checks if two values are equal.Compares the contents of the variables.\n",
        "  \"is\" operator Checks if two variables point to the same object in memory.\n",
        "   Compares the object identity, not just the value.\n",
        "\n",
        "8. What are logical operators in Python?\n",
        " -- Logical operators in python are used to combine conditional statements.\n",
        "   there are 3 logical operators:-\n",
        "   * \"and\" it returns True if both conditions are true.\n",
        "   *\"or\" it returns True if atleast one of the condition is true.\n",
        "   *\"\"not\" it reverses the boolean value.\n",
        "\n",
        "9. What is type casting in Python?\n",
        " -- It is the process of converting one data type to another. Python allows both implicit and explicit typecasting.\n",
        "  \"Implicit typecasting\":- it automatically converts one data type to another when required usually when theres nonrisk of data loss.\n",
        "  \"explicit Typecasting\":- it converts data type useing functions like- int, float, str.\n",
        "\n",
        "10. What is the difference between implicit and explicit type casting?\n",
        " -- \"Implicit typecasting\":- it automatically converts one data type to another when required usually when theres nonrisk of data loss.\n",
        "\n",
        " \"explicit Typecasting\":- it converts data type useing functions like- int, float, str.\n",
        "\n",
        "11.  What is the purpose of conditional statements in Python?\n",
        " --the purpose of contional statements in python is to control the flow of a program by executing certain blocks of code only when specific conditions are met.\n",
        "\n",
        "12. How does the elif statement work?\n",
        " -- Python checks conditions top to bottom . once it finds a true condition, it runs that block and skips the rest.\n",
        "\n",
        "13. What is the difference between for and while loops?\n",
        " -- *\"For loop\" it is used when we know ahead of time how many times to loop. Iterates over a sequence like a list or range.\n",
        "    *\" While loop\" it is used when we do not know in advance how many times to loop. Continues as long as condition is True.\n",
        "\n",
        "14. Describe a scenario where a while loop is more suitable than a for loop.\n",
        " -- If we take an example that we want to keep asking a user to enter the correct password until they get it right.\n",
        "     "
      ],
      "metadata": {
        "id": "qM-59sSAAudI"
      }
    },
    {
      "cell_type": "code",
      "source": [
        "#1. Write a Python program to print \"Hello, World!\n",
        "\n",
        "print(\"hello world\")\n"
      ],
      "metadata": {
        "colab": {
          "base_uri": "https://localhost:8080/"
        },
        "id": "4oq1rgIwKi5Q",
        "outputId": "60160115-512d-418f-cc28-15b3e7eaa1cd"
      },
      "execution_count": 13,
      "outputs": [
        {
          "output_type": "stream",
          "name": "stdout",
          "text": [
            "hello world\n"
          ]
        }
      ]
    },
    {
      "cell_type": "code",
      "source": [
        "#2.  Write a Python program that displays your name and age\n",
        "\n",
        "\n",
        "name = \"Joba\"\n",
        "age = 24\n",
        "\n",
        "def display_info():\n",
        "\n",
        "    print(f\"Name: {name}\")\n",
        "    print(f\"Age: {age}\")\n",
        "display_info()\n"
      ],
      "metadata": {
        "colab": {
          "base_uri": "https://localhost:8080/"
        },
        "id": "cVcvvhl1Kf32",
        "outputId": "87eef69d-b043-41e8-87eb-2997be332ebc"
      },
      "execution_count": 11,
      "outputs": [
        {
          "output_type": "stream",
          "name": "stdout",
          "text": [
            "Name: Joba\n",
            "Age: 24\n"
          ]
        }
      ]
    },
    {
      "cell_type": "code",
      "source": [
        "#3. Write code to print all the pre-defined keywords in Python using the keyword library\n",
        "\n",
        "import keyword\n",
        "print (keyword.kwlist)\n"
      ],
      "metadata": {
        "colab": {
          "base_uri": "https://localhost:8080/"
        },
        "id": "yEwWOqn9y5_7",
        "outputId": "219d0c7b-9747-4f8d-9de3-aa25239dfc80"
      },
      "execution_count": 12,
      "outputs": [
        {
          "output_type": "stream",
          "name": "stdout",
          "text": [
            "['False', 'None', 'True', 'and', 'as', 'assert', 'async', 'await', 'break', 'class', 'continue', 'def', 'del', 'elif', 'else', 'except', 'finally', 'for', 'from', 'global', 'if', 'import', 'in', 'is', 'lambda', 'nonlocal', 'not', 'or', 'pass', 'raise', 'return', 'try', 'while', 'with', 'yield']\n"
          ]
        }
      ]
    },
    {
      "cell_type": "code",
      "source": [
        "#4. Write a program that checks if a given word is a Python keyword.\n",
        "\n",
        "import keyword\n",
        "\n",
        "word = input(\"Enter a word to check: \").strip()\n",
        "if keyword.iskeyword(word):\n",
        "    print(f\"'{word}' is a Python keyword.\")\n",
        "else:\n",
        "    print(f\"'{word}' is not a Python keyword.\")\n",
        "\n",
        "\n",
        "\n"
      ],
      "metadata": {
        "colab": {
          "base_uri": "https://localhost:8080/"
        },
        "id": "eCqGDtXA0Nga",
        "outputId": "87b4c070-8231-4d1a-b015-f589e1e47966"
      },
      "execution_count": 14,
      "outputs": [
        {
          "output_type": "stream",
          "name": "stdout",
          "text": [
            "Enter a word to check: true\n",
            "'true' is not a Python keyword.\n"
          ]
        }
      ]
    },
    {
      "cell_type": "code",
      "source": [
        "#5. Create a list and tuple in Python, and demonstrate how attempting to change an element works differently\n",
        "for each.\n",
        "# python list.\n",
        "\n",
        "my_list = [10, 20, 30]\n",
        "my_tuple = (40, 50, 60)\n",
        "\n",
        "print(\"Original list:\", my_list)\n",
        "print(\"Original tuple:\", my_tuple)\n",
        "\n",
        "my_list[1] = 25\n",
        "print(\"Modified list:\", my_list)"
      ],
      "metadata": {
        "colab": {
          "base_uri": "https://localhost:8080/",
          "height": 106
        },
        "id": "kFIfJjqn14l3",
        "outputId": "857c358e-fce2-440b-ee15-327af98ea5de"
      },
      "execution_count": 17,
      "outputs": [
        {
          "output_type": "error",
          "ename": "SyntaxError",
          "evalue": "invalid syntax (<ipython-input-17-8b8cab453c0b>, line 2)",
          "traceback": [
            "\u001b[0;36m  File \u001b[0;32m\"<ipython-input-17-8b8cab453c0b>\"\u001b[0;36m, line \u001b[0;32m2\u001b[0m\n\u001b[0;31m    for each.\u001b[0m\n\u001b[0m             ^\u001b[0m\n\u001b[0;31mSyntaxError\u001b[0m\u001b[0;31m:\u001b[0m invalid syntax\n"
          ]
        }
      ]
    },
    {
      "cell_type": "code",
      "source": [
        "#6. Write a function to demonstrate the behavior of mutable and immutable arguments.\n",
        "\n",
        "def demo(a_list, a_int):\n",
        "    a_list.append(4)  # Mutable\n",
        "    a_int += 10       # Immutable\n",
        "\n",
        "lst = [1, 2, 3]\n",
        "num = 5\n",
        "demo(lst, num)\n",
        "print(lst, num)  # Output: [1, 2, 3, 4] 5"
      ],
      "metadata": {
        "colab": {
          "base_uri": "https://localhost:8080/"
        },
        "id": "2NWfb9zWtPPw",
        "outputId": "c427d99b-4cd6-45b2-e5d4-18ec1af2b6d9"
      },
      "execution_count": 18,
      "outputs": [
        {
          "output_type": "stream",
          "name": "stdout",
          "text": [
            "[1, 2, 3, 4] 5\n"
          ]
        }
      ]
    },
    {
      "cell_type": "code",
      "source": [
        "#7.  Write a program that performs basic arithmetic operations on two user-input numbers\n",
        "\n",
        "num1 = float(input(\"Enter first number: \"))\n",
        "num2 = float(input(\"Enter second number: \"))\n",
        "\n",
        "print(f\"\\n{num1} + {num2} = {num1 + num2}\")\n",
        "print(f\"{num1} - {num2} = {num1 - num2}\")\n",
        "print(f\"{num1} × {num2} = {num1 * num2}\")\n",
        "print(f\"{num1} ÷ {num2} = \" + (\"Cannot divide by zero\" if num2 == 0 else str(num1 / num2)))\n",
        "\n"
      ],
      "metadata": {
        "colab": {
          "base_uri": "https://localhost:8080/"
        },
        "id": "y6B-rOjSwSFU",
        "outputId": "dc1e63f1-2cab-4ad1-e9af-d2c5a02c1d9f"
      },
      "execution_count": 19,
      "outputs": [
        {
          "output_type": "stream",
          "name": "stdout",
          "text": [
            "Enter first number: 1\n",
            "Enter second number: 2\n",
            "\n",
            "1.0 + 2.0 = 3.0\n",
            "1.0 - 2.0 = -1.0\n",
            "1.0 × 2.0 = 2.0\n",
            "1.0 ÷ 2.0 = 0.5\n"
          ]
        }
      ]
    },
    {
      "cell_type": "code",
      "source": [
        "#8. Write a program to demonstrate the use of logical operators.\n",
        "\n",
        "a, b = True, False\n",
        "print(a and b)  # Output: False\n",
        "print(a or b)   # Output: True\n",
        "print(not a)    # Output: False\n",
        "\n",
        "# For numerical comparison:\n",
        "print(5 > 3 and 10 < 7)  #False\n",
        "print(5 > 3 or 10 < 7)   # True"
      ],
      "metadata": {
        "colab": {
          "base_uri": "https://localhost:8080/"
        },
        "id": "iXlo7goB8eUH",
        "outputId": "e4189e9c-acd1-42e0-ba56-412d27c91289"
      },
      "execution_count": 20,
      "outputs": [
        {
          "output_type": "stream",
          "name": "stdout",
          "text": [
            "False\n",
            "True\n",
            "False\n",
            "False\n",
            "True\n"
          ]
        }
      ]
    },
    {
      "cell_type": "code",
      "source": [
        "#9. Write a Python program to convert user input from string to integer, float, and boolean types\n",
        "\n",
        "user = input(\"Enter: \").strip()\n",
        "try: i = int(user)\n",
        "except: i = \"Invalid\"\n",
        "try: f = float(user)\n",
        "except: f = \"Invalid\"\n",
        "print(f\"Int:{i}, Float:{f}, Bool:{bool(user)}\")"
      ],
      "metadata": {
        "colab": {
          "base_uri": "https://localhost:8080/"
        },
        "id": "WSBpa8z79NSS",
        "outputId": "848a47ab-77fe-4353-fcba-2ad20e27bfe6"
      },
      "execution_count": 21,
      "outputs": [
        {
          "output_type": "stream",
          "name": "stdout",
          "text": [
            "Enter: 5\n",
            "Int:5, Float:5.0, Bool:True\n"
          ]
        }
      ]
    },
    {
      "cell_type": "code",
      "source": [
        "#10.  Write code to demonstrate type casting with list elements.\n",
        "\n",
        "data = ['42', 3.14, '7.5', 'text', True]\n",
        "for x in data:\n",
        "    print(f\"{x}: int={int(x) if str(x).isdigit() else 'Error'}, \"\n",
        "          f\"float={float(x) if str(x).replace('.','',1).isdigit() else 'Error'}, \"\n",
        "          f\"str='{str(x)}'\")\n",
        "\n"
      ],
      "metadata": {
        "colab": {
          "base_uri": "https://localhost:8080/"
        },
        "id": "JxrISelH96VK",
        "outputId": "eaa70879-4396-47d9-dfeb-585f93e95599"
      },
      "execution_count": 25,
      "outputs": [
        {
          "output_type": "stream",
          "name": "stdout",
          "text": [
            "42: int=42, float=42.0, str='42'\n",
            "3.14: int=Error, float=3.14, str='3.14'\n",
            "7.5: int=Error, float=7.5, str='7.5'\n",
            "text: int=Error, float=Error, str='text'\n",
            "True: int=Error, float=Error, str='True'\n"
          ]
        }
      ]
    },
    {
      "cell_type": "code",
      "source": [
        "#11.  Write a program that checks if a number is positive, negative, or zero\n",
        "\n",
        "if num > 0:\n",
        "    print(\"Positive number\")\n",
        "elif num < 0:\n",
        "    print(\"Negative number\")\n",
        "else:\n",
        "    print(\"Zero\")"
      ],
      "metadata": {
        "colab": {
          "base_uri": "https://localhost:8080/"
        },
        "id": "QzEHJ3o4_9qK",
        "outputId": "315b4344-0f63-4999-f1d1-dd4d37ff96a4"
      },
      "execution_count": 24,
      "outputs": [
        {
          "output_type": "stream",
          "name": "stdout",
          "text": [
            "Positive number\n"
          ]
        }
      ]
    },
    {
      "cell_type": "code",
      "source": [
        "#12. Write a for loop to print numbers from 1 to 10\n",
        "\n",
        "for num in range(1, 11):\n",
        "    print(num, end=' ')\n",
        "    # end=' ' prints space instead of newline\n"
      ],
      "metadata": {
        "colab": {
          "base_uri": "https://localhost:8080/"
        },
        "id": "UIg_FFIQAcOm",
        "outputId": "41e9cff6-e0ac-4b31-f068-32873b2db875"
      },
      "execution_count": 26,
      "outputs": [
        {
          "output_type": "stream",
          "name": "stdout",
          "text": [
            "1 2 3 4 5 6 7 8 9 10 "
          ]
        }
      ]
    },
    {
      "cell_type": "code",
      "source": [
        "#13.  Write a Python program to find the sum of all even numbers between 1 and 50\n",
        "\n",
        "even_sum = sum(range(2, 51, 2))\n",
        "print(\"Sum of even numbers (1-50):\", even_sum)"
      ],
      "metadata": {
        "colab": {
          "base_uri": "https://localhost:8080/"
        },
        "id": "fq2BxeTsA6Hn",
        "outputId": "de03c1cc-9b6f-4ccc-a297-11322b131421"
      },
      "execution_count": 27,
      "outputs": [
        {
          "output_type": "stream",
          "name": "stdout",
          "text": [
            "Sum of even numbers (1-50): 650\n"
          ]
        }
      ]
    },
    {
      "cell_type": "code",
      "source": [
        "#14.  Write a program to reverse a string using a while loop.\n",
        "\n",
        "s = \"Hello, World!\"\n",
        "i = len(s) - 1\n",
        "r = \"\"\n",
        "while i >= 0:\n",
        "    r += s[i]\n",
        "    i -= 1\n",
        "print(r)"
      ],
      "metadata": {
        "colab": {
          "base_uri": "https://localhost:8080/"
        },
        "id": "QxUcbKprBdyz",
        "outputId": "a6d559c5-05e5-4b65-e833-5a728ad120b3"
      },
      "execution_count": 28,
      "outputs": [
        {
          "output_type": "stream",
          "name": "stdout",
          "text": [
            "!dlroW ,olleH\n"
          ]
        }
      ]
    },
    {
      "cell_type": "code",
      "source": [
        "#15. Write a Python program to calculate the factorial of a number provided by the user using a while loop.\n",
        "\n",
        "num = int(input(\"Enter a non-negative integer: \"))\n",
        "factorial = 1\n",
        "\n",
        "\n",
        "if num < 0:\n",
        "    print(\"Factorial is not defined for negative numbers.\")\n",
        "else:\n",
        "    i = num\n",
        "    while i > 0:\n",
        "        factorial *= i\n",
        "        i -= 1\n",
        "    print(f\"The factorial of {num} is {factorial}\")"
      ],
      "metadata": {
        "colab": {
          "base_uri": "https://localhost:8080/"
        },
        "id": "5QSEoZ9CB6VG",
        "outputId": "559b5354-48ee-459f-c715-1970adbd2c21"
      },
      "execution_count": 30,
      "outputs": [
        {
          "output_type": "stream",
          "name": "stdout",
          "text": [
            "Enter a non-negative integer: 5\n",
            "The factorial of 5 is 120\n"
          ]
        }
      ]
    },
    {
      "cell_type": "code",
      "source": [],
      "metadata": {
        "id": "ZfT86oq9CUEq"
      },
      "execution_count": null,
      "outputs": []
    }
  ]
}